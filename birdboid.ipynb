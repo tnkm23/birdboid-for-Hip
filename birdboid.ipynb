{
 "cells": [
  {
   "cell_type": "markdown",
   "id": "b10087b3",
   "metadata": {},
   "source": [
    "# 鳥の群れ\n",
    "houdiniでpython SOPノードで実装を予定\n",
    "\n",
    "参考  \n",
    "https://qiita.com/piyopiyomaru/items/8c2bf12356303b28fc32\n",
    "\n",
    "\n",
    "### Boidの基本的アルゴリズム  \n",
    "- Collision Avoidance: 群れの仲間との衝突を避ける  \n",
    "- Velocity Matching: 群れの仲間と速度を合わせようとする  \n",
    "- Flock Centering: 群れの仲間と近づいたままでいようとする  \n",
    "https://en.m.wikipedia.org/wiki/Boids  \n",
    "(http://www.cs.toronto.edu/~dt/siggraph97-course/cwr87/)\n",
    "[\"Boids Background and Update\" by Craig Reynolds]\n"
   ]
  },
  {
   "cell_type": "markdown",
   "id": "8d600e32",
   "metadata": {},
   "source": [
    "## 座標と進行方向ベクトル"
   ]
  },
  {
   "cell_type": "code",
   "execution_count": 3,
   "id": "04d6ece6",
   "metadata": {},
   "outputs": [],
   "source": [
    "import numpy as np\n",
    "\n",
    "width = 25 # フィールド正方形の１辺の長さ。つまりx座標とy座標のとりうる範囲\n",
    "\n",
    "num_of_birds = 100 # 鳥の数。とりあえず100匹にしておく\n",
    "\n",
    "pos = np.random.rand(num_of_birds, 2) * (0.6*width - 0.4*width) + 0.4*width # 初期座標をランダム生成する\n",
    "vec = np.random.rand(num_of_birds, 2) - 0.5 # 初期ベクトルをランダム生成する\n"
   ]
  },
  {
   "cell_type": "markdown",
   "id": "9c5b1228",
   "metadata": {},
   "source": [
    "## 1. 距離行列を作る"
   ]
  },
  {
   "cell_type": "code",
   "execution_count": 7,
   "id": "cd095bad",
   "metadata": {},
   "outputs": [],
   "source": [
    "def DISTANCE() :\n",
    "\n",
    "    global distance # 距離行列の表であるdistanceはグローバルなオブジェクトとして定義しておく\n",
    "    \n",
    "    distance = np.zeros([num_of_birds, num_of_birds]) # 空のndarray配列を(鳥の数)*(鳥の数)で作っておく\n",
    "\n",
    "    for i in range (num_of_birds) :\n",
    "\n",
    "        for j in range (i+1, num_of_birds) :\n",
    "\n",
    "            a = pos[i] # 表の横列\n",
    "            b = pos[j] # 表の縦列\n",
    "\n",
    "            dist = np.linalg.norm(b-a) # 座標間の距離を計算 #Houdiniでのpointの3次元距離計算にも対応\n",
    "\n",
    "            distance[i, j] = dist # 距離行列の表のマスに代入\n",
    "\n",
    "    distance += distance.T # 表の上半分を反転させて、下半分のマスを埋める\n"
   ]
  }
 ],
 "metadata": {
  "kernelspec": {
   "display_name": "DLenv",
   "language": "python",
   "name": "python3"
  },
  "language_info": {
   "codemirror_mode": {
    "name": "ipython",
    "version": 3
   },
   "file_extension": ".py",
   "mimetype": "text/x-python",
   "name": "python",
   "nbconvert_exporter": "python",
   "pygments_lexer": "ipython3",
   "version": "3.10.18"
  }
 },
 "nbformat": 4,
 "nbformat_minor": 5
}
